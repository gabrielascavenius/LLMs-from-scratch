{
 "cells": [
  {
   "metadata": {
    "ExecuteTime": {
     "end_time": "2025-03-15T02:31:13.443736Z",
     "start_time": "2025-03-15T02:31:13.434600Z"
    }
   },
   "cell_type": "code",
   "source": [
    "# Chapter 2: Working with Text Data - Exercises\n",
    "# Your Gabriela Scavenius\n",
    "# Date: March 14, 2025\n",
    "\n"
   ],
   "id": "21317958cfd81313",
   "outputs": [],
   "execution_count": 21
  },
  {
   "metadata": {
    "ExecuteTime": {
     "end_time": "2025-03-15T02:31:13.473790Z",
     "start_time": "2025-03-15T02:31:13.460025Z"
    }
   },
   "cell_type": "code",
   "source": [
    "from importlib.metadata import version\n",
    "\n",
    "print(\"torch version:\", version(\"torch\"))\n",
    "print(\"tiktoken version:\", version(\"tiktoken\"))\n",
    "\n"
   ],
   "id": "214df50e7520039f",
   "outputs": [
    {
     "name": "stdout",
     "output_type": "stream",
     "text": [
      "torch version: 2.6.0\n",
      "tiktoken version: 0.9.0\n"
     ]
    }
   ],
   "execution_count": 22
  },
  {
   "metadata": {
    "ExecuteTime": {
     "end_time": "2025-03-15T02:31:13.537541Z",
     "start_time": "2025-03-15T02:31:13.531622Z"
    }
   },
   "cell_type": "code",
   "source": "# Exercise 2.1",
   "id": "98522f833cfb4818",
   "outputs": [],
   "execution_count": 23
  },
  {
   "metadata": {
    "ExecuteTime": {
     "end_time": "2025-03-15T02:31:13.544257Z",
     "start_time": "2025-03-15T02:31:13.541801Z"
    }
   },
   "cell_type": "code",
   "source": [
    "import tiktoken\n",
    "\n",
    "tokenizer = tiktoken.get_encoding(\"gpt2\")"
   ],
   "id": "156fc7e5c1d972f9",
   "outputs": [],
   "execution_count": 24
  },
  {
   "metadata": {
    "ExecuteTime": {
     "end_time": "2025-03-15T02:31:13.558927Z",
     "start_time": "2025-03-15T02:31:13.553182Z"
    }
   },
   "cell_type": "code",
   "source": [
    "integers = tokenizer.encode(\"Akwirw ier\")\n",
    "print(integers)"
   ],
   "id": "e55d5ae369eb43eb",
   "outputs": [
    {
     "name": "stdout",
     "output_type": "stream",
     "text": [
      "[33901, 86, 343, 86, 220, 959]\n"
     ]
    }
   ],
   "execution_count": 25
  },
  {
   "metadata": {
    "ExecuteTime": {
     "end_time": "2025-03-15T02:31:13.573062Z",
     "start_time": "2025-03-15T02:31:13.570039Z"
    }
   },
   "cell_type": "code",
   "source": [
    "for i in integers:\n",
    "    print(f\"{i} -> {tokenizer.decode([i])}\")"
   ],
   "id": "eb56d0b1d91bc80f",
   "outputs": [
    {
     "name": "stdout",
     "output_type": "stream",
     "text": [
      "33901 -> Ak\n",
      "86 -> w\n",
      "343 -> ir\n",
      "86 -> w\n",
      "220 ->  \n",
      "959 -> ier\n"
     ]
    }
   ],
   "execution_count": 26
  },
  {
   "metadata": {
    "ExecuteTime": {
     "end_time": "2025-03-15T02:31:13.592557Z",
     "start_time": "2025-03-15T02:31:13.583022Z"
    }
   },
   "cell_type": "code",
   "source": "tokenizer.encode(\"Ak\")",
   "id": "aa66890b610ee1a2",
   "outputs": [
    {
     "data": {
      "text/plain": [
       "[33901]"
      ]
     },
     "execution_count": 27,
     "metadata": {},
     "output_type": "execute_result"
    }
   ],
   "execution_count": 27
  },
  {
   "metadata": {
    "ExecuteTime": {
     "end_time": "2025-03-15T02:31:13.659055Z",
     "start_time": "2025-03-15T02:31:13.655307Z"
    }
   },
   "cell_type": "code",
   "source": "tokenizer.encode(\"w\")",
   "id": "709d350b52eb4b06",
   "outputs": [
    {
     "data": {
      "text/plain": [
       "[86]"
      ]
     },
     "execution_count": 28,
     "metadata": {},
     "output_type": "execute_result"
    }
   ],
   "execution_count": 28
  },
  {
   "metadata": {
    "ExecuteTime": {
     "end_time": "2025-03-15T02:31:13.674420Z",
     "start_time": "2025-03-15T02:31:13.671067Z"
    }
   },
   "cell_type": "code",
   "source": "tokenizer.encode(\"ir\")",
   "id": "c7bf9e462bd02441",
   "outputs": [
    {
     "data": {
      "text/plain": [
       "[343]"
      ]
     },
     "execution_count": 29,
     "metadata": {},
     "output_type": "execute_result"
    }
   ],
   "execution_count": 29
  },
  {
   "metadata": {
    "ExecuteTime": {
     "end_time": "2025-03-15T02:31:13.682529Z",
     "start_time": "2025-03-15T02:31:13.680270Z"
    }
   },
   "cell_type": "code",
   "source": "tokenizer.encode(\"w\")",
   "id": "24656bee1620d9f6",
   "outputs": [
    {
     "data": {
      "text/plain": [
       "[86]"
      ]
     },
     "execution_count": 30,
     "metadata": {},
     "output_type": "execute_result"
    }
   ],
   "execution_count": 30
  },
  {
   "metadata": {
    "ExecuteTime": {
     "end_time": "2025-03-15T02:31:13.698753Z",
     "start_time": "2025-03-15T02:31:13.695806Z"
    }
   },
   "cell_type": "code",
   "source": "tokenizer.encode(\" \")",
   "id": "cf68fa8d23e9c122",
   "outputs": [
    {
     "data": {
      "text/plain": [
       "[220]"
      ]
     },
     "execution_count": 31,
     "metadata": {},
     "output_type": "execute_result"
    }
   ],
   "execution_count": 31
  },
  {
   "metadata": {
    "ExecuteTime": {
     "end_time": "2025-03-15T02:31:13.710758Z",
     "start_time": "2025-03-15T02:31:13.706908Z"
    }
   },
   "cell_type": "code",
   "source": "tokenizer.encode(\"ier\")",
   "id": "1a7480d5ca4fbefe",
   "outputs": [
    {
     "data": {
      "text/plain": [
       "[959]"
      ]
     },
     "execution_count": 32,
     "metadata": {},
     "output_type": "execute_result"
    }
   ],
   "execution_count": 32
  },
  {
   "metadata": {
    "ExecuteTime": {
     "end_time": "2025-03-15T02:31:13.728975Z",
     "start_time": "2025-03-15T02:31:13.725269Z"
    }
   },
   "cell_type": "code",
   "source": "tokenizer.decode([33901, 86, 343, 86, 220, 959])",
   "id": "3bfb61908a7f2ade",
   "outputs": [
    {
     "data": {
      "text/plain": [
       "'Akwirw ier'"
      ]
     },
     "execution_count": 33,
     "metadata": {},
     "output_type": "execute_result"
    }
   ],
   "execution_count": 33
  },
  {
   "metadata": {
    "ExecuteTime": {
     "end_time": "2025-03-15T02:31:13.744478Z",
     "start_time": "2025-03-15T02:31:13.741017Z"
    }
   },
   "cell_type": "code",
   "source": "# Exercise 2.2",
   "id": "7e55b2ed21124774",
   "outputs": [],
   "execution_count": 34
  },
  {
   "metadata": {
    "ExecuteTime": {
     "end_time": "2025-03-15T02:31:13.760233Z",
     "start_time": "2025-03-15T02:31:13.753548Z"
    }
   },
   "cell_type": "code",
   "source": [
    "import tiktoken\n",
    "import torch\n",
    "from torch.utils.data import Dataset, DataLoader\n",
    "\n",
    "\n",
    "class GPTDatasetV1(Dataset):\n",
    "    def __init__(self, txt, tokenizer, max_length, stride):\n",
    "        self.input_ids = []\n",
    "        self.target_ids = []\n",
    "\n",
    "        # Tokenize the entire text\n",
    "        token_ids = tokenizer.encode(txt, allowed_special={\"<|endoftext|>\"})\n",
    "\n",
    "        # Use a sliding window to chunk the book into overlapping sequences of max_length\n",
    "        for i in range(0, len(token_ids) - max_length, stride):\n",
    "            input_chunk = token_ids[i:i + max_length]\n",
    "            target_chunk = token_ids[i + 1: i + max_length + 1]\n",
    "            self.input_ids.append(torch.tensor(input_chunk))\n",
    "            self.target_ids.append(torch.tensor(target_chunk))\n",
    "\n",
    "    def __len__(self):\n",
    "        return len(self.input_ids)\n",
    "\n",
    "    def __getitem__(self, idx):\n",
    "        return self.input_ids[idx], self.target_ids[idx]\n",
    "\n",
    "\n",
    "def create_dataloader(txt, batch_size=4, max_length=256, stride=128):\n",
    "    # Initialize the tokenizer\n",
    "    tokenizer = tiktoken.get_encoding(\"gpt2\")\n",
    "\n",
    "    # Create dataset\n",
    "    dataset = GPTDatasetV1(txt, tokenizer, max_length, stride)\n",
    "\n",
    "    # Create dataloader\n",
    "    dataloader = DataLoader(dataset, batch_size=batch_size)\n",
    "\n",
    "    return dataloader"
   ],
   "id": "7bab103695622c55",
   "outputs": [],
   "execution_count": 35
  },
  {
   "metadata": {
    "ExecuteTime": {
     "end_time": "2025-03-15T02:31:13.932413Z",
     "start_time": "2025-03-15T02:31:13.767411Z"
    }
   },
   "cell_type": "code",
   "source": [
    "with open(\"01_main-chapter-code/the-verdict.txt\", \"r\", encoding=\"utf-8\") as f:\n",
    "    raw_text = f.read()\n",
    "\n",
    "tokenizer = tiktoken.get_encoding(\"gpt2\")\n",
    "encoded_text = tokenizer.encode(raw_text)\n",
    "\n",
    "vocab_size = 50257\n",
    "output_dim = 256\n",
    "max_len = 4\n",
    "context_length = max_len\n",
    "\n",
    "token_embedding_layer = torch.nn.Embedding(context_length, output_dim)\n",
    "pos_embedding_layer = torch.nn.Embedding(vocab_size, output_dim)"
   ],
   "id": "17fea8dceeec12b6",
   "outputs": [],
   "execution_count": 36
  },
  {
   "metadata": {
    "ExecuteTime": {
     "end_time": "2025-03-15T02:31:14.017124Z",
     "start_time": "2025-03-15T02:31:13.944975Z"
    }
   },
   "cell_type": "code",
   "source": [
    "dataloader = create_dataloader(raw_text, batch_size=4, max_length=2, stride=2)\n",
    "\n",
    "for batch in dataloader:\n",
    "    x, y = batch\n",
    "    break\n",
    "\n",
    "x"
   ],
   "id": "ac7987fdbfdd0c17",
   "outputs": [
    {
     "data": {
      "text/plain": [
       "tensor([[  40,  367],\n",
       "        [2885, 1464],\n",
       "        [1807, 3619],\n",
       "        [ 402,  271]])"
      ]
     },
     "execution_count": 37,
     "metadata": {},
     "output_type": "execute_result"
    }
   ],
   "execution_count": 37
  },
  {
   "metadata": {
    "ExecuteTime": {
     "end_time": "2025-03-15T02:31:14.047092Z",
     "start_time": "2025-03-15T02:31:14.022226Z"
    }
   },
   "cell_type": "code",
   "source": [
    "dataloader = create_dataloader(raw_text, batch_size=4, max_length=8, stride=2)\n",
    "\n",
    "for batch in dataloader:\n",
    "    x, y = batch\n",
    "    break\n",
    "\n",
    "x"
   ],
   "id": "1271270eb8b37f48",
   "outputs": [
    {
     "data": {
      "text/plain": [
       "tensor([[   40,   367,  2885,  1464,  1807,  3619,   402,   271],\n",
       "        [ 2885,  1464,  1807,  3619,   402,   271, 10899,  2138],\n",
       "        [ 1807,  3619,   402,   271, 10899,  2138,   257,  7026],\n",
       "        [  402,   271, 10899,  2138,   257,  7026, 15632,   438]])"
      ]
     },
     "execution_count": 38,
     "metadata": {},
     "output_type": "execute_result"
    }
   ],
   "execution_count": 38
  }
 ],
 "metadata": {
  "kernelspec": {
   "name": "python3",
   "language": "python",
   "display_name": "Python 3 (ipykernel)"
  }
 },
 "nbformat": 5,
 "nbformat_minor": 9
}
